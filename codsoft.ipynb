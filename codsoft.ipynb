{
  "nbformat": 4,
  "nbformat_minor": 0,
  "metadata": {
    "colab": {
      "provenance": [],
      "authorship_tag": "ABX9TyMsDmHDdxGVv83mI1lwh/Vx",
      "include_colab_link": true
    },
    "kernelspec": {
      "name": "python3",
      "display_name": "Python 3"
    },
    "language_info": {
      "name": "python"
    }
  },
  "cells": [
    {
      "cell_type": "markdown",
      "metadata": {
        "id": "view-in-github",
        "colab_type": "text"
      },
      "source": [
        "<a href=\"https://colab.research.google.com/github/Swetha192004/real-estate-management/blob/main/codsoft.ipynb\" target=\"_parent\"><img src=\"https://colab.research.google.com/assets/colab-badge.svg\" alt=\"Open In Colab\"/></a>"
      ]
    },
    {
      "cell_type": "code",
      "source": [
        "# Check for missing values in each column\n",
        "df.isnull().sum()\n"
      ],
      "metadata": {
        "colab": {
          "base_uri": "https://localhost:8080/"
        },
        "id": "0jl4PC8pX3Kf",
        "outputId": "3cdc3903-df44-4b64-a3d6-e6f4b53306a6"
      },
      "execution_count": null,
      "outputs": [
        {
          "output_type": "execute_result",
          "data": {
            "text/plain": [
              "Survived      0\n",
              "Pclass        0\n",
              "Sex           0\n",
              "Age           0\n",
              "SibSp         0\n",
              "Parch         0\n",
              "Fare          0\n",
              "Embarked_C    0\n",
              "Embarked_Q    0\n",
              "Embarked_S    0\n",
              "dtype: int64"
            ]
          },
          "metadata": {},
          "execution_count": 3
        }
      ]
    },
    {
      "cell_type": "code",
      "source": [
        "# Drop rows with missing values\n",
        "df = df.dropna()\n"
      ],
      "metadata": {
        "id": "Ny5di0T_X-wF"
      },
      "execution_count": null,
      "outputs": []
    },
    {
      "cell_type": "code",
      "source": [
        "# Check for duplicates\n",
        "df.duplicated().sum()\n",
        "\n",
        "# Remove duplicates\n",
        "df = df.drop_duplicates()\n"
      ],
      "metadata": {
        "id": "Q6wFzPtPYqu6"
      },
      "execution_count": null,
      "outputs": []
    },
    {
      "cell_type": "code",
      "source": [
        "# Iterate through each column\n",
        "for column_name in df.columns:\n",
        "    # Check if the column has missing values\n",
        "    if df[column_name].isnull().any():\n",
        "        # Check the data type of the column\n",
        "        if df[column_name].dtype.kind in 'biufc':\n",
        "            # If the column has a numeric data type, fill missing values with the mean\n",
        "            df[column_name].fillna(df[column_name].mean(), inplace=True)\n",
        "        else:\n",
        "            # If the column has a non-numeric data type, you might want to use a different strategy\n",
        "            df[column_name].fillna(df[column_name].mode()[0], inplace=True)\n"
      ],
      "metadata": {
        "id": "l-eUvgWiagBC"
      },
      "execution_count": null,
      "outputs": []
    },
    {
      "cell_type": "code",
      "source": [
        "from sklearn.preprocessing import StandardScaler\n",
        "\n",
        "# Example: Check column names\n",
        "print(df.columns)\n",
        "\n",
        "# If the column names are correct, proceed with the transformation\n",
        "scaler = StandardScaler()\n",
        "numerical_columns = ['numerical_column1', 'numerical_column2']\n",
        "\n",
        "# Check if the specified columns exist in the DataFrame\n",
        "if all(column in df.columns for column in numerical_columns):\n",
        "    df[numerical_columns] = scaler.fit_transform(df[numerical_columns])\n",
        "else:\n",
        "    print(\"Specified columns do not exist in the DataFrame.\")\n"
      ],
      "metadata": {
        "colab": {
          "base_uri": "https://localhost:8080/"
        },
        "id": "mSbxZ_8Tbkwt",
        "outputId": "12e3fb89-efed-4805-f302-bd47f005bbe0"
      },
      "execution_count": null,
      "outputs": [
        {
          "output_type": "stream",
          "name": "stdout",
          "text": [
            "Index(['Survived', 'Pclass', 'Sex', 'Age', 'SibSp', 'Parch', 'Fare',\n",
            "       'Embarked_C', 'Embarked_Q', 'Embarked_S'],\n",
            "      dtype='object')\n",
            "Specified columns do not exist in the DataFrame.\n"
          ]
        }
      ]
    },
    {
      "cell_type": "code",
      "source": [
        "# Example: Check if the specified column exists in the DataFrame\n",
        "specified_column = 'categorical_column'\n",
        "\n",
        "if specified_column in df.columns:\n",
        "    # If the specified column exists, proceed with one-hot encoding\n",
        "    df = pd.get_dummies(df, columns=[specified_column])\n",
        "else:\n",
        "    print(f\"Specified column '{specified_column}' does not exist in the DataFrame.\")\n"
      ],
      "metadata": {
        "colab": {
          "base_uri": "https://localhost:8080/"
        },
        "id": "gQ5SHqdlcOWA",
        "outputId": "7880eba8-3b2d-4278-ba51-fedca50f964b"
      },
      "execution_count": null,
      "outputs": [
        {
          "output_type": "stream",
          "name": "stdout",
          "text": [
            "Specified column 'categorical_column' does not exist in the DataFrame.\n"
          ]
        }
      ]
    },
    {
      "cell_type": "code",
      "source": [
        "# Example: Check if the specified columns exist in the DataFrame\n",
        "feature1_name = 'feature1'\n",
        "feature2_name = 'feature2'\n",
        "\n",
        "if all(column in df.columns for column in [feature1_name, feature2_name]):\n",
        "    # If both specified columns exist, create a new feature\n",
        "    df['new_feature'] = df[feature1_name] * df[feature2_name]\n",
        "else:\n",
        "    missing_columns = [column for column in [feature1_name, feature2_name] if column not in df.columns]\n",
        "    print(f\"Specified columns {missing_columns} do not exist in the DataFrame.\")\n"
      ],
      "metadata": {
        "colab": {
          "base_uri": "https://localhost:8080/"
        },
        "id": "HWLFZcEgcsMF",
        "outputId": "93e01834-c09e-4fcf-964e-bf6787c71f6f"
      },
      "execution_count": null,
      "outputs": [
        {
          "output_type": "stream",
          "name": "stdout",
          "text": [
            "Specified columns ['feature1', 'feature2'] do not exist in the DataFrame.\n"
          ]
        }
      ]
    },
    {
      "cell_type": "code",
      "source": [
        "# Example: Check if the specified column exists in the DataFrame\n",
        "text_column_name = 'text_column'\n",
        "\n",
        "if text_column_name in df.columns:\n",
        "    # If the specified column exists, perform text data cleaning\n",
        "    df[text_column_name] = df[text_column_name].str.replace('[^\\w\\s]', '').str.lower()\n",
        "else:\n",
        "    print(f\"Specified column '{text_column_name}' does not exist in the DataFrame.\")\n"
      ],
      "metadata": {
        "colab": {
          "base_uri": "https://localhost:8080/"
        },
        "id": "yRlWllssdFz2",
        "outputId": "a698602b-891f-42c5-ff09-0a1dbe0e2bfa"
      },
      "execution_count": null,
      "outputs": [
        {
          "output_type": "stream",
          "name": "stdout",
          "text": [
            "Specified column 'text_column' does not exist in the DataFrame.\n"
          ]
        }
      ]
    },
    {
      "cell_type": "code",
      "source": [
        "import pandas as pd\n",
        "from sklearn.model_selection import train_test_split\n",
        "from sklearn.ensemble import RandomForestClassifier\n",
        "from sklearn.metrics import accuracy_score, classification_report\n",
        "\n",
        "# Step 2: Load the Dataset\n",
        "df = pd.read_csv('/content/archive.zip')  # Update with the correct file path\n",
        "\n",
        "# Step 3: Data Exploration and Preprocessing\n",
        "df = df.drop(['Name', 'Ticket', 'Cabin', 'PassengerId'], axis=1)\n",
        "df['Sex'] = df['Sex'].map({'male': 0, 'female': 1})\n",
        "df = pd.get_dummies(df, columns=['Embarked'])\n",
        "df = df.dropna()\n",
        "\n",
        "# Step 4: Split the Data\n",
        "X = df.drop('Survived', axis=1)\n",
        "y = df['Survived']\n",
        "X_train, X_test, y_train, y_test = train_test_split(X, y, test_size=0.2, random_state=42)\n",
        "\n",
        "# Step 5: Build and Train the Model\n",
        "model = RandomForestClassifier(n_estimators=100, random_state=42)\n",
        "model.fit(X_train, y_train)\n",
        "\n",
        "# Step 6: Evaluate the Model\n",
        "y_pred = model.predict(X_test)\n",
        "accuracy = accuracy_score(y_test, y_pred)\n",
        "print(f'Accuracy: {accuracy:.2f}')\n",
        "print(classification_report(y_test, y_pred))\n",
        "\n",
        "# Step 7: Make Predictions\n",
        "# Example prediction for a new passenger\n",
        "new_passenger = pd.DataFrame({'Pclass': [3], 'Sex': [0], 'Age': [25], 'SibSp': [0], 'Parch': [0], 'Fare': [7.25], 'Embarked_C': [0], 'Embarked_Q': [0], 'Embarked_S': [1]})\n",
        "prediction = model.predict(new_passenger)\n",
        "print(f'Predicted Survival: {prediction[0]}')\n"
      ],
      "metadata": {
        "colab": {
          "base_uri": "https://localhost:8080/"
        },
        "id": "mA2Pr2i5dTi4",
        "outputId": "ca1ea7dc-e2ba-433f-ff98-f0578a402ba9"
      },
      "execution_count": null,
      "outputs": [
        {
          "output_type": "stream",
          "name": "stdout",
          "text": [
            "Accuracy: 0.78\n",
            "              precision    recall  f1-score   support\n",
            "\n",
            "           0       0.80      0.84      0.82        87\n",
            "           1       0.73      0.68      0.70        56\n",
            "\n",
            "    accuracy                           0.78       143\n",
            "   macro avg       0.77      0.76      0.76       143\n",
            "weighted avg       0.77      0.78      0.77       143\n",
            "\n",
            "Predicted Survival: 0\n"
          ]
        }
      ]
    },
    {
      "cell_type": "code",
      "source": [
        "import pandas as pd\n",
        "from sklearn.model_selection import train_test_split\n",
        "from sklearn.ensemble import RandomForestClassifier\n",
        "from sklearn.metrics import accuracy_score, classification_report\n",
        "\n",
        "# Step 2: Load the Titanic Dataset\n",
        "# Replace 'path/to/titanic.csv' with the actual path to your Titanic dataset CSV file\n",
        "df = pd.read_csv('/content/archive.zip')\n",
        "\n",
        "# Step 3: Data Exploration and Preprocessing\n",
        "df = df.drop(['Name', 'Ticket', 'Cabin', 'PassengerId'], axis=1)\n",
        "df['Sex'] = df['Sex'].map({'male': 0, 'female': 1})\n",
        "df = pd.get_dummies(df, columns=['Embarked'])\n",
        "df = df.dropna()\n",
        "\n",
        "# Step 4: Split the Data\n",
        "X = df.drop('Survived', axis=1)\n",
        "y = df['Survived']\n",
        "X_train, X_test, y_train, y_test = train_test_split(X, y, test_size=0.2, random_state=42)\n",
        "\n",
        "# Step 5: Build and Train the Model\n",
        "model = RandomForestClassifier(n_estimators=100, random_state=42)\n",
        "model.fit(X_train, y_train)\n",
        "\n",
        "# Step 6: Evaluate the Model\n",
        "y_pred = model.predict(X_test)\n",
        "accuracy = accuracy_score(y_test, y_pred)\n",
        "print(f'Accuracy: {accuracy:.2f}')\n",
        "print(classification_report(y_test, y_pred))\n",
        "\n",
        "# Step 7: Make Predictions\n",
        "# Example prediction for a new passenger\n",
        "new_passenger = pd.DataFrame({'Pclass': [3], 'Sex': [0], 'Age': [25], 'SibSp': [0], 'Parch': [0], 'Fare': [7.25], 'Embarked_C': [0], 'Embarked_Q': [0], 'Embarked_S': [1]})\n",
        "prediction = model.predict(new_passenger)\n",
        "print(f'Predicted Survival: {prediction[0]}')\n"
      ],
      "metadata": {
        "colab": {
          "base_uri": "https://localhost:8080/"
        },
        "id": "CtFibv3ReQ3-",
        "outputId": "670f3cc5-309d-4ec8-b1bc-3749293b5f55"
      },
      "execution_count": null,
      "outputs": [
        {
          "output_type": "stream",
          "name": "stdout",
          "text": [
            "Accuracy: 0.78\n",
            "              precision    recall  f1-score   support\n",
            "\n",
            "           0       0.80      0.84      0.82        87\n",
            "           1       0.73      0.68      0.70        56\n",
            "\n",
            "    accuracy                           0.78       143\n",
            "   macro avg       0.77      0.76      0.76       143\n",
            "weighted avg       0.77      0.78      0.77       143\n",
            "\n",
            "Predicted Survival: 0\n"
          ]
        }
      ]
    },
    {
      "cell_type": "code",
      "source": [
        "# Import necessary libraries\n",
        "import pandas as pd\n",
        "from sklearn.model_selection import train_test_split\n",
        "from sklearn.ensemble import RandomForestClassifier\n",
        "from sklearn.metrics import accuracy_score, classification_report\n",
        "\n",
        "# Load the Titanic dataset\n",
        "df = pd.read_csv('/content/archive.zip')  # Update with the correct file path\n",
        "\n",
        "# Data Exploration and Preprocessing\n",
        "df = df.drop(['Name', 'Ticket', 'Cabin', 'PassengerId'], axis=1)\n",
        "df['Sex'] = df['Sex'].map({'male': 0, 'female': 1})\n",
        "df = pd.get_dummies(df, columns=['Embarked'])\n",
        "df = df.dropna()\n",
        "\n",
        "# Split the data into features (X) and target variable (y)\n",
        "X = df.drop('Survived', axis=1)\n",
        "y = df['Survived']\n",
        "\n",
        "# Split the data into training and testing sets\n",
        "X_train, X_test, y_train, y_test = train_test_split(X, y, test_size=0.2, random_state=42)\n",
        "\n",
        "# Build and train the model\n",
        "model = RandomForestClassifier(n_estimators=100, random_state=42)\n",
        "model.fit(X_train, y_train)\n",
        "\n",
        "# Evaluate the model\n",
        "y_pred = model.predict(X_test)\n",
        "accuracy = accuracy_score(y_test, y_pred)\n",
        "print(f'Accuracy: {accuracy:.2f}')\n",
        "print(classification_report(y_test, y_pred))\n",
        "\n",
        "# Example: Make predictions for a new passenger\n",
        "new_passenger = pd.DataFrame({'Pclass': [3], 'Sex': [0], 'Age': [25], 'SibSp': [0], 'Parch': [0], 'Fare': [7.25], 'Embarked_C': [0], 'Embarked_Q': [0], 'Embarked_S': [1]})\n",
        "prediction = model.predict(new_passenger)\n"
      ],
      "metadata": {
        "colab": {
          "base_uri": "https://localhost:8080/"
        },
        "id": "oimZzisre1JU",
        "outputId": "d4882242-16b4-4965-825b-3a9e5b87398b"
      },
      "execution_count": null,
      "outputs": [
        {
          "output_type": "stream",
          "name": "stdout",
          "text": [
            "Accuracy: 0.78\n",
            "              precision    recall  f1-score   support\n",
            "\n",
            "           0       0.80      0.84      0.82        87\n",
            "           1       0.73      0.68      0.70        56\n",
            "\n",
            "    accuracy                           0.78       143\n",
            "   macro avg       0.77      0.76      0.76       143\n",
            "weighted avg       0.77      0.78      0.77       143\n",
            "\n"
          ]
        }
      ]
    },
    {
      "cell_type": "code",
      "source": [
        "# Import necessary libraries\n",
        "import pandas as pd\n",
        "from sklearn.model_selection import train_test_split\n",
        "from sklearn.ensemble import RandomForestClassifier\n",
        "from sklearn.metrics import accuracy_score, classification_report\n",
        "\n",
        "# Load the Titanic dataset\n",
        "df = pd.read_csv('/content/archive.zip')  # Update with the correct file path\n",
        "\n",
        "# Data Exploration and Preprocessing\n",
        "df = df.drop(['Name', 'Ticket', 'Cabin', 'PassengerId'], axis=1)\n",
        "\n",
        "# Set default values for missing 'Age' based on the median\n",
        "df['Age'].fillna(df['Age'].median(), inplace=True)\n",
        "\n",
        "# Set default values for missing 'Embarked' based on the mode\n",
        "df['Embarked'].fillna(df['Embarked'].mode()[0], inplace=True)\n",
        "\n",
        "# Set default values for missing 'Fare' based on the median\n",
        "df['Fare'].fillna(df['Fare'].median(), inplace=True)\n",
        "\n",
        "# Convert 'Sex' to numerical\n",
        "df['Sex'] = df['Sex'].map({'male': 0, 'female': 1})\n",
        "\n",
        "# One-hot encode 'Embarked'\n",
        "df = pd.get_dummies(df, columns=['Embarked'])\n",
        "\n",
        "# Drop rows with missing values (just in case there are still some)\n",
        "df = df.dropna()\n",
        "\n",
        "# Split the data into features (X) and target variable (y)\n",
        "X = df.drop('Survived', axis=1)\n",
        "y = df['Survived']\n",
        "\n",
        "# Split the data into training and testing sets\n",
        "X_train, X_test, y_train, y_test = train_test_split(X, y, test_size=0.2, random_state=42)\n",
        "\n",
        "# Build and train the model\n",
        "model = RandomForestClassifier(n_estimators=100, random_state=42)\n",
        "model.fit(X_train, y_train)\n",
        "\n",
        "# Evaluate the model\n",
        "y_pred = model.predict(X_test)\n",
        "accuracy = accuracy_score(y_test, y_pred)\n",
        "print(f'Accuracy: {accuracy:.2f}')\n",
        "print(classification_report(y_test, y_pred))\n",
        "\n",
        "# Example: Make predictions for a new passenger with default values\n",
        "new_passenger = pd.DataFrame({'Pclass': [3], 'Sex': [0], 'Age': [25], 'SibSp': [0], 'Parch': [0], 'Fare': [7.25], 'Embarked_C': [0], 'Embarked_Q': [0], 'Embarked_S': [1]})\n",
        "prediction = model.predict(new_passenger)\n",
        "print(f'Predicted Survival: {prediction[0]}')\n"
      ],
      "metadata": {
        "colab": {
          "base_uri": "https://localhost:8080/"
        },
        "id": "N0_IbXP4fqso",
        "outputId": "9d1536d0-03d6-401b-bf5b-4c7a9cddd55d"
      },
      "execution_count": null,
      "outputs": [
        {
          "output_type": "stream",
          "name": "stdout",
          "text": [
            "Accuracy: 0.81\n",
            "              precision    recall  f1-score   support\n",
            "\n",
            "           0       0.84      0.84      0.84       105\n",
            "           1       0.77      0.77      0.77        74\n",
            "\n",
            "    accuracy                           0.81       179\n",
            "   macro avg       0.80      0.80      0.80       179\n",
            "weighted avg       0.81      0.81      0.81       179\n",
            "\n",
            "Predicted Survival: 0\n"
          ]
        }
      ]
    }
  ]
}